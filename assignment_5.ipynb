{
 "cells": [
  {
   "cell_type": "code",
   "execution_count": null,
   "id": "0922ae15",
   "metadata": {},
   "outputs": [],
   "source": [
    "1. What does an empty dictionary code look like?"
   ]
  },
  {
   "cell_type": "code",
   "execution_count": 37,
   "id": "758b8f2f",
   "metadata": {},
   "outputs": [],
   "source": [
    "a={}"
   ]
  },
  {
   "cell_type": "code",
   "execution_count": 38,
   "id": "bd0546c6",
   "metadata": {},
   "outputs": [
    {
     "data": {
      "text/plain": [
       "dict"
      ]
     },
     "execution_count": 38,
     "metadata": {},
     "output_type": "execute_result"
    }
   ],
   "source": [
    "type(a)"
   ]
  },
  {
   "cell_type": "code",
   "execution_count": null,
   "id": "3f0ddb30",
   "metadata": {},
   "outputs": [],
   "source": [
    "2. What is the value of a dictionary value with the key \"foo\" and the value 42?"
   ]
  },
  {
   "cell_type": "code",
   "execution_count": 39,
   "id": "8d7175b1",
   "metadata": {},
   "outputs": [],
   "source": [
    "a={\"foo\":42}"
   ]
  },
  {
   "cell_type": "code",
   "execution_count": 40,
   "id": "85328808",
   "metadata": {},
   "outputs": [
    {
     "data": {
      "text/plain": [
       "dict_items([('foo', 42)])"
      ]
     },
     "execution_count": 40,
     "metadata": {},
     "output_type": "execute_result"
    }
   ],
   "source": [
    "a.items()"
   ]
  },
  {
   "cell_type": "code",
   "execution_count": null,
   "id": "328c6efe",
   "metadata": {},
   "outputs": [],
   "source": [
    "3. What is the most significant distinction between a dictionary and a list?"
   ]
  },
  {
   "cell_type": "code",
   "execution_count": null,
   "id": "f330b67b",
   "metadata": {},
   "outputs": [],
   "source": [
    "both  list and dictionary are mutable,list are ordered objects and dictionaries are unordered."
   ]
  },
  {
   "cell_type": "code",
   "execution_count": null,
   "id": "4eff71d0",
   "metadata": {},
   "outputs": [],
   "source": [
    "4. What happens if you try to access spam[\"foo\"] if spam is {\"bar\": 100}?\n"
   ]
  },
  {
   "cell_type": "code",
   "execution_count": 41,
   "id": "bcaef4c5",
   "metadata": {},
   "outputs": [],
   "source": [
    "spam={\"bar\":100}\n"
   ]
  },
  {
   "cell_type": "code",
   "execution_count": 44,
   "id": "3b7c2d72",
   "metadata": {},
   "outputs": [],
   "source": [
    "spam[\"foo\"]=100"
   ]
  },
  {
   "cell_type": "code",
   "execution_count": 45,
   "id": "47be34ee",
   "metadata": {},
   "outputs": [
    {
     "data": {
      "text/plain": [
       "{'bar': 100, 'foo': 100}"
      ]
     },
     "execution_count": 45,
     "metadata": {},
     "output_type": "execute_result"
    }
   ],
   "source": [
    "spam"
   ]
  },
  {
   "cell_type": "code",
   "execution_count": null,
   "id": "2e9fa162",
   "metadata": {},
   "outputs": [],
   "source": [
    "5.If a dictionary is stored in spam, what is the difference between the expressions cat  in spam and\n",
    "cat in spam.keys()?"
   ]
  },
  {
   "cell_type": "code",
   "execution_count": 6,
   "id": "dd95408f",
   "metadata": {},
   "outputs": [
    {
     "data": {
      "text/plain": [
       "True"
      ]
     },
     "execution_count": 6,
     "metadata": {},
     "output_type": "execute_result"
    }
   ],
   "source": [
    "spam={'abc':\"cat\",\"xyz\":123}\n",
    "\n",
    "\"cat\" in spam[\"abc\"]\n",
    "    "
   ]
  },
  {
   "cell_type": "code",
   "execution_count": null,
   "id": "e53b5c69",
   "metadata": {},
   "outputs": [],
   "source": [
    "There is no difference. The in operator checks whether a value exists as a key in the dictionary. 'cat' in spam checks whether there is a 'cat' key in the dictionary, while 'cat' in spam. values() checks whether there is a value 'cat' for one of the keys in spam ."
   ]
  },
  {
   "cell_type": "code",
   "execution_count": 9,
   "id": "f7494995",
   "metadata": {},
   "outputs": [
    {
     "data": {
      "text/plain": [
       "dict_keys(['abc', 'xyz'])"
      ]
     },
     "execution_count": 9,
     "metadata": {},
     "output_type": "execute_result"
    }
   ],
   "source": [
    "spam.keys()"
   ]
  },
  {
   "cell_type": "code",
   "execution_count": null,
   "id": "670fe36d",
   "metadata": {},
   "outputs": [],
   "source": [
    "6.If a dictionary is stored in spam, what is the difference between the expressions cat  in spam and\n",
    "cat in spam.values()?"
   ]
  },
  {
   "cell_type": "code",
   "execution_count": 10,
   "id": "15a6882a",
   "metadata": {},
   "outputs": [
    {
     "data": {
      "text/plain": [
       "True"
      ]
     },
     "execution_count": 10,
     "metadata": {},
     "output_type": "execute_result"
    }
   ],
   "source": [
    "spam={'abc':\"cat\",\"xyz\":123}\n",
    "\n",
    "\"cat\" in spam[\"abc\"]"
   ]
  },
  {
   "cell_type": "code",
   "execution_count": 11,
   "id": "59800415",
   "metadata": {},
   "outputs": [
    {
     "data": {
      "text/plain": [
       "dict_values(['cat', 123])"
      ]
     },
     "execution_count": 11,
     "metadata": {},
     "output_type": "execute_result"
    }
   ],
   "source": [
    "spam.values()"
   ]
  },
  {
   "cell_type": "code",
   "execution_count": null,
   "id": "9031bc4d",
   "metadata": {},
   "outputs": [],
   "source": [
    "7. What is a shortcut for the following code?\n",
    "if colour not in spam:"
   ]
  },
  {
   "cell_type": "code",
   "execution_count": 30,
   "id": "b60e4605",
   "metadata": {},
   "outputs": [],
   "source": [
    "spam={\"pooja\":\"aarav\",\"nag\":\"black\"}"
   ]
  },
  {
   "cell_type": "code",
   "execution_count": 32,
   "id": "b23c298c",
   "metadata": {
    "scrolled": true
   },
   "outputs": [
    {
     "data": {
      "text/plain": [
       "False"
      ]
     },
     "execution_count": 32,
     "metadata": {},
     "output_type": "execute_result"
    }
   ],
   "source": [
    "\"colour\" in spam[\"nag\"]"
   ]
  },
  {
   "cell_type": "code",
   "execution_count": null,
   "id": "99d2cf37",
   "metadata": {},
   "outputs": [],
   "source": [
    "7. What is a shortcut for the following code?\n",
    "spam[\"colour\"]:\"black\""
   ]
  },
  {
   "cell_type": "code",
   "execution_count": 33,
   "id": "aa32794a",
   "metadata": {},
   "outputs": [],
   "source": [
    "spam={\"pooja\":\"aarav\",\"colour\":\"black\"}"
   ]
  },
  {
   "cell_type": "code",
   "execution_count": 35,
   "id": "f313e180",
   "metadata": {},
   "outputs": [
    {
     "data": {
      "text/plain": [
       "'black'"
      ]
     },
     "execution_count": 35,
     "metadata": {},
     "output_type": "execute_result"
    }
   ],
   "source": [
    "spam[\"colour\"]"
   ]
  },
  {
   "cell_type": "code",
   "execution_count": null,
   "id": "17fb6c9c",
   "metadata": {},
   "outputs": [],
   "source": [
    "8.How do you pretty-print dictionary values using which modules and function?\n",
    "Use pprint() to Pretty Print a Dictionary in Python\n",
    "\n",
    "Within the pprint module there is a function with the same name pprint() , which is the function used to pretty-print the given string or object. First, declare an array of dictionaries. Afterward, pretty print it using the function pprint"
   ]
  }
 ],
 "metadata": {
  "kernelspec": {
   "display_name": "Python 3 (ipykernel)",
   "language": "python",
   "name": "python3"
  },
  "language_info": {
   "codemirror_mode": {
    "name": "ipython",
    "version": 3
   },
   "file_extension": ".py",
   "mimetype": "text/x-python",
   "name": "python",
   "nbconvert_exporter": "python",
   "pygments_lexer": "ipython3",
   "version": "3.9.12"
  }
 },
 "nbformat": 4,
 "nbformat_minor": 5
}
